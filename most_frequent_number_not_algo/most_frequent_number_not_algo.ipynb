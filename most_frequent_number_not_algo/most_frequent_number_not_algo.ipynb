{
 "cells": [
  {
   "cell_type": "code",
   "execution_count": 35,
   "id": "a2c1e92f-a750-4eb0-950f-1e790b7de244",
   "metadata": {},
   "outputs": [],
   "source": [
    "import pandas as pd\n",
    "import numpy as np"
   ]
  },
  {
   "cell_type": "markdown",
   "id": "b44b19b3-684a-4540-8792-163ccf736a13",
   "metadata": {},
   "source": [
    "### Exploring ways to return the most frequent number in a sequence"
   ]
  },
  {
   "cell_type": "markdown",
   "id": "f5396512-3489-45c0-8a4a-09c0ea7b0a15",
   "metadata": {},
   "source": [
    "It's a fairly common task - when you have some set of objects and you need to calculate, which object appears more than the others.<br>\n",
    "This can be done in many ways <u>using existing functions</u> (we won't be doing algorithms here). So let's find out, which way is the fastest!\n",
    "\n",
    "N. B. Let's note that there will be situations when we'll be having several most frequent objects, so we just pick the first, that's not our topic here."
   ]
  },
  {
   "cell_type": "code",
   "execution_count": 38,
   "id": "6b9254c6-72df-42f3-85dc-86860a0eae01",
   "metadata": {},
   "outputs": [
    {
     "data": {
      "text/html": [
       "<div>\n",
       "<style scoped>\n",
       "    .dataframe tbody tr th:only-of-type {\n",
       "        vertical-align: middle;\n",
       "    }\n",
       "\n",
       "    .dataframe tbody tr th {\n",
       "        vertical-align: top;\n",
       "    }\n",
       "\n",
       "    .dataframe thead th {\n",
       "        text-align: right;\n",
       "    }\n",
       "</style>\n",
       "<table border=\"1\" class=\"dataframe\">\n",
       "  <thead>\n",
       "    <tr style=\"text-align: right;\">\n",
       "      <th></th>\n",
       "      <th>0</th>\n",
       "    </tr>\n",
       "  </thead>\n",
       "  <tbody>\n",
       "    <tr>\n",
       "      <th>0</th>\n",
       "      <td>76</td>\n",
       "    </tr>\n",
       "    <tr>\n",
       "      <th>1</th>\n",
       "      <td>170</td>\n",
       "    </tr>\n",
       "    <tr>\n",
       "      <th>2</th>\n",
       "      <td>140</td>\n",
       "    </tr>\n",
       "    <tr>\n",
       "      <th>3</th>\n",
       "      <td>199</td>\n",
       "    </tr>\n",
       "    <tr>\n",
       "      <th>4</th>\n",
       "      <td>153</td>\n",
       "    </tr>\n",
       "    <tr>\n",
       "      <th>5</th>\n",
       "      <td>145</td>\n",
       "    </tr>\n",
       "    <tr>\n",
       "      <th>6</th>\n",
       "      <td>99</td>\n",
       "    </tr>\n",
       "  </tbody>\n",
       "</table>\n",
       "</div>"
      ],
      "text/plain": [
       "     0\n",
       "0   76\n",
       "1  170\n",
       "2  140\n",
       "3  199\n",
       "4  153\n",
       "5  145\n",
       "6   99"
      ]
     },
     "metadata": {},
     "output_type": "display_data"
    }
   ],
   "source": [
    "SET_SIZE = 1000\n",
    "MAX_NUM = 200\n",
    "\n",
    "# first we create a set of SET_SIZE numbers, consisting of random int-s \n",
    "set = pd.DataFrame(data=np.array(np.random.randint(MAX_NUM, size=SET_SIZE)))\n",
    "display(set[:7])"
   ]
  },
  {
   "cell_type": "markdown",
   "id": "19cfd5ef-bf1f-407d-92c5-fc70fe1f1cee",
   "metadata": {},
   "source": [
    "#### Using pandas 'mode' method"
   ]
  },
  {
   "cell_type": "markdown",
   "id": "27950a7f-da92-4a84-9132-c300585d5f30",
   "metadata": {},
   "source": [
    "First obvious idea - to use special function exactly for this task by definition - **mode**. Mode is the most frequent number(s) in a distribution. Luckily, pandas lib has it."
   ]
  },
  {
   "cell_type": "code",
   "execution_count": 41,
   "id": "78edbcaf-dfb8-4691-93f2-d5d77d0f4b11",
   "metadata": {},
   "outputs": [
    {
     "name": "stdout",
     "output_type": "stream",
     "text": [
      "202 μs ± 55.4 μs per loop (mean ± std. dev. of 7 runs, 10,000 loops each)\n"
     ]
    }
   ],
   "source": [
    "%%timeit -n10000\n",
    "set.mode()[0][0]"
   ]
  },
  {
   "cell_type": "markdown",
   "id": "d5554f7f-a2bc-4bf0-9798-b45df765498e",
   "metadata": {},
   "source": [
    "> Results: <br> 215 μs ± 58 μs per loop (mean ± std. dev. of 7 runs, 10,000 loops each)\n",
    ">\n",
    "> ⚠ Concrete numbers of microseconds will differ from run to run"
   ]
  },
  {
   "cell_type": "markdown",
   "id": "8ca00043-7b3a-4306-9e0a-b8503bb56e38",
   "metadata": {},
   "source": [
    "#### Using pandas 'value_counts' method"
   ]
  },
  {
   "cell_type": "markdown",
   "id": "a76de461-143c-42b2-852e-2594b11ad8fe",
   "metadata": {},
   "source": [
    "We could use **value_counts()** and grab frequent value from there"
   ]
  },
  {
   "cell_type": "code",
   "execution_count": 45,
   "id": "d442d5c4-5d62-4050-8bfb-36fbb4b423bc",
   "metadata": {},
   "outputs": [
    {
     "name": "stdout",
     "output_type": "stream",
     "text": [
      "410 μs ± 105 μs per loop (mean ± std. dev. of 7 runs, 10,000 loops each)\n"
     ]
    }
   ],
   "source": [
    "%%timeit -n10000\n",
    "set.value_counts().idxmax()[0]"
   ]
  },
  {
   "cell_type": "markdown",
   "id": "6555c7bb-3641-4aed-927c-ba33c2e5ff6c",
   "metadata": {},
   "source": [
    "> Results: <br> 486 μs ± 33.5 μs per loop (mean ± std. dev. of 7 runs, 10,000 loops each) <br>\n",
    "Almost twice as slow as mode method!"
   ]
  },
  {
   "cell_type": "markdown",
   "id": "5d8de14e-966c-43b5-b4fe-8a6fa15c50bf",
   "metadata": {},
   "source": [
    "#### Using numpy's 'unique' method"
   ]
  },
  {
   "cell_type": "markdown",
   "id": "bc10d06d-e182-4b46-8f43-df3c171aa23a",
   "metadata": {},
   "source": [
    "Turns out numpy has methods that could help here too. We could use 'np.unique', which returns unique value - and their counts, if asked :)"
   ]
  },
  {
   "cell_type": "code",
   "execution_count": 49,
   "id": "cdef1cc0-fcb8-4dde-a21f-69c1d60c619d",
   "metadata": {},
   "outputs": [
    {
     "name": "stdout",
     "output_type": "stream",
     "text": [
      "21.6 μs ± 215 ns per loop (mean ± std. dev. of 7 runs, 10,000 loops each)\n"
     ]
    }
   ],
   "source": [
    "%%timeit -n10000\n",
    "a, b = np.unique(set, return_counts=True)\n",
    "a[b.argmax()]"
   ]
  },
  {
   "cell_type": "markdown",
   "id": "159a84e1-4902-4699-a572-bda08614fd30",
   "metadata": {},
   "source": [
    "> Results: <br> 37.5 μs ± 14.5 μs per loop (mean ± std. dev. of 7 runs, 10,000 loops each) <br>\n",
    "Wow, that's impressive.<br>Works <b>6 times faster</b> than 'pd.mode' and <b>12 times faster</b> than 'pd.value_counts()'!"
   ]
  },
  {
   "cell_type": "markdown",
   "id": "5a441ad0-185e-445b-a5d9-5208b3076234",
   "metadata": {},
   "source": [
    "### Are those codes even working?"
   ]
  },
  {
   "cell_type": "markdown",
   "id": "48c14665-1e62-4990-8cb6-f7b5331f8cd5",
   "metadata": {},
   "source": [
    "We surely checked it before calculating time of execution, but let's double-check."
   ]
  },
  {
   "cell_type": "code",
   "execution_count": 53,
   "id": "44dda281-8e2c-4e3e-94e2-197b400a05f8",
   "metadata": {},
   "outputs": [
    {
     "name": "stdout",
     "output_type": "stream",
     "text": [
      "0  \n",
      "185    12\n",
      "182    11\n",
      "66     11\n",
      "47     11\n",
      "35     10\n",
      "Name: count, dtype: int64\n"
     ]
    }
   ],
   "source": [
    "# let's see first 5 top-counts of values\n",
    "\n",
    "print(set.value_counts()[:5])"
   ]
  },
  {
   "cell_type": "markdown",
   "id": "113ed703-ca69-486e-80c7-3d323f47d009",
   "metadata": {},
   "source": [
    "First column is a number, second column is how many times this number appears in dataset. So our wanted outcome is in the left upper corner (nevermind 0)."
   ]
  },
  {
   "cell_type": "code",
   "execution_count": 55,
   "id": "4ec8954e-b855-412d-9117-581a8c4d3342",
   "metadata": {},
   "outputs": [],
   "source": [
    "# what if our objects are words, not numbers? spoiler: numpy will deliver\n",
    "# set = ['Am', 'Dm', 'G', 'G', 'G', 'C', 'Em', 'Em']"
   ]
  },
  {
   "cell_type": "code",
   "execution_count": 56,
   "id": "899db372-94e9-4aff-8720-1f551aeaafbd",
   "metadata": {},
   "outputs": [
    {
     "name": "stdout",
     "output_type": "stream",
     "text": [
      "Most frequent number by \"mode\" method = 185\n",
      "Most frequent number by \"value_counts\" method = 185\n",
      "Most frequent number by \"np.unique\" method = 185\n"
     ]
    }
   ],
   "source": [
    "print('Most frequent number by \"mode\" method =', set.mode()[0][0])\n",
    "print('Most frequent number by \"value_counts\" method =', set.value_counts().idxmax()[0])\n",
    "a, b = np.unique(set, return_counts=True)\n",
    "print('Most frequent number by \"np.unique\" method =', a[b.argmax()])"
   ]
  },
  {
   "cell_type": "markdown",
   "id": "c229f751-0f25-486f-bfd7-92cc509cecd9",
   "metadata": {},
   "source": [
    "### Conclusion"
   ]
  },
  {
   "cell_type": "markdown",
   "id": "3cc3f4e9-634a-41f2-a5b0-f1808d38e638",
   "metadata": {},
   "source": [
    "**Numpy** is just the champion, what a beast!<br>\n",
    "Note that this lib outperforms greatly even when we use pd.DataFrame as a type of set of numbers.<br>\n",
    "There's also a big '+': if we change type of the set to, say, list, containing words, numpy-approach will still work, whereas two other methods will drop an error\n"
   ]
  },
  {
   "cell_type": "code",
   "execution_count": null,
   "id": "4bdb39ab-7b84-42f8-ac55-a2d474e7f19e",
   "metadata": {},
   "outputs": [],
   "source": []
  }
 ],
 "metadata": {
  "kernelspec": {
   "display_name": "Python [conda env:base] *",
   "language": "python",
   "name": "conda-base-py"
  },
  "language_info": {
   "codemirror_mode": {
    "name": "ipython",
    "version": 3
   },
   "file_extension": ".py",
   "mimetype": "text/x-python",
   "name": "python",
   "nbconvert_exporter": "python",
   "pygments_lexer": "ipython3",
   "version": "3.12.7"
  },
  "panel-cell-order": [
   "006b5136-d6f9-4471-94ab-7197251b3cde",
   "db902bbd-b83a-4c44-b843-91888d2cba90",
   "b55f3174-c339-44a8-ba66-093a46d0a9fc",
   "f5af3013-fc3d-40fb-a94d-47445e8c2e6a",
   "37cb75a7-688a-4e6e-8a9a-4c5ed2ab9e09",
   "fe4b6005-8582-4067-98a9-40334b4bbfbc",
   "2fce688d-c44d-4b96-887a-41952ea8ea64",
   "2865fb1d-7b0b-4277-8c9c-a1eacb9cb330",
   "8ad8b2dd-c17d-4287-b298-86a820f0d017",
   "4bc9a506-2cac-4e46-bf8e-d967c92d95cf",
   "1f70330a-8d4e-4d6d-b5c4-812511893012",
   "3421cfdf-6d19-48ab-bb19-6ec7c07a14ef",
   "019f8b7b-4502-4ff8-babb-1661c499802e",
   "a95a4e62-63d2-41b7-9a67-49ffce49387a",
   "3c9c7a5e-6f9f-4a05-aa5f-b299db72ffc7",
   "d08c6379-32e8-4ea9-8c64-478c7047f8b1",
   "c713d2da-7b72-4ddc-a7fc-88f0c61dac8f",
   "6b56b742-9063-4e63-97a6-88212ff0b9b5",
   "50ff8fc7-14bd-43e5-8716-fe1e6a9c94f9",
   "b81a7ab0-1465-42aa-a255-2e7cbb95de6b",
   "00f48abe-8ec8-4ae3-993f-218203af7653",
   "34c814fa-e342-48c5-ae1f-8e54a37d340d",
   "771b0021-6286-485c-a915-2286b73ad0c1",
   "226ad305-83cf-468e-a3ae-7e17d46e34ed",
   "ed8bb757-0dec-4ff4-9a58-61d1272c3c7a",
   "df0a6865-97d0-4336-89d5-cdd89b7bcc41"
  ]
 },
 "nbformat": 4,
 "nbformat_minor": 5
}
